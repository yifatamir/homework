{
 "cells": [
  {
   "cell_type": "markdown",
   "metadata": {},
   "source": [
    "# CS294-112 Deep Reinforcement Learning HW1 Q4 DAgger"
   ]
  },
  {
   "cell_type": "markdown",
   "metadata": {},
   "source": [
    "Yifat Amir"
   ]
  },
  {
   "cell_type": "markdown",
   "metadata": {},
   "source": [
    "### Libraries"
   ]
  },
  {
   "cell_type": "code",
   "execution_count": 14,
   "metadata": {
    "collapsed": true
   },
   "outputs": [],
   "source": [
    "%matplotlib inline\n",
    "import tensorflow as tf\n",
    "import numpy as np\n",
    "import tf_util\n",
    "import gym\n",
    "import load_policy\n",
    "import sklearn.utils as sku\n",
    "from sklearn.model_selection import train_test_split\n",
    "from sklearn.preprocessing import StandardScaler\n",
    "import matplotlib.pyplot as plt"
   ]
  },
  {
   "cell_type": "markdown",
   "metadata": {},
   "source": [
    "### Implementation"
   ]
  },
  {
   "cell_type": "code",
   "execution_count": 15,
   "metadata": {
    "collapsed": true
   },
   "outputs": [],
   "source": [
    "def get_train_test_splits(obs_file, act_file, train_amount = None):\n",
    "    print('loading expert observations and actions data')\n",
    "\n",
    "    obs = np.load(obs_file).astype(np.float32)\n",
    "    scaler = StandardScaler().fit(obs)\n",
    "    obs = scaler.transform(obs).astype(np.float32)\n",
    "    \n",
    "    act = np.squeeze(np.load(act_file).astype(np.float32))\n",
    "    \n",
    "    if train_amount == None:\n",
    "        return obs, None, act, None, scaler\n",
    "    n_samples = obs.shape[0]\n",
    "    obs_train, obs_test = train_test_split(obs, train_size = train_amount)\n",
    "    act_train, act_test = train_test_split(act, train_size = train_amount)\n",
    "    return obs_train, obs_test, act_train, act_test, scaler\n",
    "\n",
    "def train(obs_train, act_train):\n",
    "    sess = tf.InteractiveSession()\n",
    "    \n",
    "    y_ = tf.placeholder(tf.float32, shape=[None, num_act_features])\n",
    "    x = tf.placeholder(tf.float32, shape=[None, num_obs_features])\n",
    "    layer1 = tf.contrib.layers.fully_connected(x, num_obs_features, activation_fn = tf.nn.tanh, weights_initializer=tf.contrib.layers.xavier_initializer())\n",
    "    layer2 = tf.contrib.layers.fully_connected(layer1, num_obs_features, activation_fn = tf.nn.tanh, weights_initializer=tf.contrib.layers.xavier_initializer())\n",
    "    y = tf.contrib.layers.fully_connected(layer2, num_act_features, activation_fn = None, weights_initializer=tf.contrib.layers.xavier_initializer())\n",
    "    \n",
    "    policy_fn = tf_util.function([x], y)\n",
    "\n",
    "    loss = tf.nn.l2_loss(y_ - y) / batch_size\n",
    "\n",
    "    train_step = tf.train.AdamOptimizer(learning_rate).minimize(loss)\n",
    "    tf.global_variables_initializer().run()\n",
    "    losses = []\n",
    "    for i in range(num_iters):\n",
    "        x_batch, y_batch = sku.shuffle(obs_train, act_train, n_samples = batch_size)\n",
    "        a, loss_now = sess.run(fetches=[train_step, loss], feed_dict={x: x_batch, y_: y_batch})\n",
    "        if (i % (num_iters/5) == 0):\n",
    "            print \"training iter #\", i\n",
    "            losses.append(loss_now)\n",
    "\n",
    "    return policy_fn\n",
    "\n",
    "def rollout(policy_fn):\n",
    "    env = gym.make(creature + \"-v1\")\n",
    "    max_steps = env.spec.timestep_limit\n",
    "\n",
    "    returns = []\n",
    "    observations = []\n",
    "    actions = []\n",
    "    for i in range(10):\n",
    "    #     print('iter', i)\n",
    "        obs = env.reset()\n",
    "        done = False\n",
    "        totalr = 0.\n",
    "        steps = 0\n",
    "        while not done:\n",
    "            action = policy_fn(scaler.transform(obs[None,:]).astype('float32'))\n",
    "            observations.append(scaler.transform(obs.reshape(1, -1)).astype('float32'))\n",
    "            actions.append(action)\n",
    "            obs, r, done, _ = env.step(action)\n",
    "            totalr += r\n",
    "            steps += 1\n",
    "    #         env.render()\n",
    "    #         if steps % 100 == 0: print(\"%i/%i\"%(steps, max_steps))\n",
    "            if steps >= max_steps:\n",
    "                break\n",
    "        returns.append(totalr)\n",
    "\n",
    "    my_data = {'observations': np.array(observations),\n",
    "                   'actions': np.array(actions)}\n",
    "    return my_data, returns, np.mean(returns), np.std(returns)\n",
    "\n",
    "def get_new_actions(new_observations, expert_policy_file):\n",
    "    new_actions = np.empty((0, num_act_features))\n",
    "    expert_policy_fn = load_policy.load_policy(expert_policy_file)\n",
    "    for obser in new_observations:\n",
    "        action = expert_policy_fn(obser)\n",
    "        new_actions = np.append(new_actions, action, axis = 0)\n",
    "    return new_actions"
   ]
  },
  {
   "cell_type": "markdown",
   "metadata": {},
   "source": [
    "### Hyperparameters"
   ]
  },
  {
   "cell_type": "code",
   "execution_count": 16,
   "metadata": {},
   "outputs": [],
   "source": [
    "obs_file, act_file = (\"obs_Walker2d-v1115109102017.npy\", \"act_Walker2d-v1115109102017.npy\")\n",
    "# (\"obs_Hopper-v1044909042017.npy\", \"act_Hopper-v1044909042017.npy\")\n",
    "# (\"obs_Humanoid-v1044209042017.npy\", \"act_Humanoid-v1044209042017.npy\")\n",
    "# (\"obs_Ant-v1112809102017.npy\", \"act_Ant-v1112809102017.npy\")\n",
    "# (\"obs_Reacher-v1113609102017.npy\", \"act_Reacher-v1113609102017.npy\")\n",
    "# (\"obs_HalfCheetah-v1114209102017.npy\", \"act_HalfCheetah-v1114209102017.npy\")\n",
    "# (\"obs_Walker2d-v1115109102017.npy\", \"act_Walker2d-v1115109102017.npy\")\n",
    "creature = \"Walker2d\"\n",
    "expert_policy_file = \"experts/\" + creature + \"-v1.pkl\"\n",
    "num_iters = 5000\n",
    "num_dagger_iters = 4\n",
    "batch_size = 100\n",
    "learning_rate = 0.001"
   ]
  },
  {
   "cell_type": "markdown",
   "metadata": {},
   "source": [
    "### Load the Data"
   ]
  },
  {
   "cell_type": "code",
   "execution_count": 17,
   "metadata": {},
   "outputs": [
    {
     "name": "stdout",
     "output_type": "stream",
     "text": [
      "loading expert observations and actions data\n",
      "(20000, 17)\n",
      "(20000, 6)\n"
     ]
    }
   ],
   "source": [
    "obs_train, obs_test, act_train, act_test, scaler = get_train_test_splits(obs_file, act_file)\n",
    "print obs_train.shape\n",
    "print act_train.shape\n",
    "num_obs_features = obs_train.shape[1]\n",
    "num_act_features = act_train.shape[1]"
   ]
  },
  {
   "cell_type": "markdown",
   "metadata": {},
   "source": [
    "### DAgger Algorithm"
   ]
  },
  {
   "cell_type": "code",
   "execution_count": 18,
   "metadata": {
    "collapsed": true
   },
   "outputs": [],
   "source": [
    "def dagger(obs_train, act_train, expert_policy_file, num_dagger_iters):\n",
    "    mean_rs = []\n",
    "    sd_rs = []\n",
    "    for i in range(num_dagger_iters):\n",
    "        print \"Dagger iter:\", i\n",
    "        # behavioral clone (train)\n",
    "        policy_fn = train(obs_train, act_train)\n",
    "        # run rollouts of your policy to get more observations\n",
    "        my_data, returns, mean_return, sd_return = rollout(policy_fn)\n",
    "        mean_rs.append(mean_return)\n",
    "        sd_rs.append(sd_return)\n",
    "        new_observations = my_data['observations']\n",
    "        # call expert policy on those observations to get actions\n",
    "        new_actions = get_new_actions(new_observations, expert_policy_file)\n",
    "        # aggregate the found observations and actions into the training set\n",
    "        obs_train = np.concatenate([obs_train, np.squeeze(new_observations)])\n",
    "        act_train = np.concatenate([act_train, new_actions])\n",
    "        # repeat!\n",
    "    return mean_rs, sd_rs"
   ]
  },
  {
   "cell_type": "code",
   "execution_count": 19,
   "metadata": {
    "scrolled": false
   },
   "outputs": [
    {
     "name": "stdout",
     "output_type": "stream",
     "text": [
      "Dagger iter: 0\n",
      "training iter # 0\n",
      "training iter # 1000\n",
      "training iter # 2000\n",
      "training iter # 3000\n",
      "training iter # 4000\n"
     ]
    },
    {
     "name": "stderr",
     "output_type": "stream",
     "text": [
      "[2017-09-11 23:50:46,121] Making new env: Walker2d-v1\n"
     ]
    },
    {
     "name": "stdout",
     "output_type": "stream",
     "text": [
      "('obs', (1, 17), (1, 17))\n",
      "Dagger iter: 1\n",
      "training iter # 0\n",
      "training iter # 1000\n",
      "training iter # 2000\n",
      "training iter # 3000\n",
      "training iter # 4000\n"
     ]
    },
    {
     "name": "stderr",
     "output_type": "stream",
     "text": [
      "[2017-09-11 23:51:10,218] Making new env: Walker2d-v1\n"
     ]
    },
    {
     "name": "stdout",
     "output_type": "stream",
     "text": [
      "('obs', (1, 17), (1, 17))\n",
      "Dagger iter: 2\n",
      "training iter # 0\n",
      "training iter # 1000\n",
      "training iter # 2000\n",
      "training iter # 3000\n",
      "training iter # 4000\n"
     ]
    },
    {
     "name": "stderr",
     "output_type": "stream",
     "text": [
      "[2017-09-11 23:51:26,567] Making new env: Walker2d-v1\n"
     ]
    },
    {
     "name": "stdout",
     "output_type": "stream",
     "text": [
      "('obs', (1, 17), (1, 17))\n",
      "Dagger iter: 3\n",
      "training iter # 0\n",
      "training iter # 1000\n",
      "training iter # 2000\n",
      "training iter # 3000\n",
      "training iter # 4000\n"
     ]
    },
    {
     "name": "stderr",
     "output_type": "stream",
     "text": [
      "[2017-09-11 23:51:39,521] Making new env: Walker2d-v1\n"
     ]
    },
    {
     "name": "stdout",
     "output_type": "stream",
     "text": [
      "('obs', (1, 17), (1, 17))\n"
     ]
    }
   ],
   "source": [
    "means, sds = dagger(obs_train, act_train, expert_policy_file, num_dagger_iters)"
   ]
  },
  {
   "cell_type": "code",
   "execution_count": 10,
   "metadata": {},
   "outputs": [
    {
     "data": {
      "image/png": "[encoded data removed]",
      "text/plain": [
       "<matplotlib.figure.Figure at 0x11d133350>"
      ]
     },
     "metadata": {},
     "output_type": "display_data"
    }
   ],
   "source": [
    "plt.errorbar(list(range(len(means))), means, yerr = sds, fmt='--o', capthick=4)\n",
    "plt.plot(list(range(len(means))), [4995.4266902009167 for i in range(len(means))])\n",
    "plt.ylabel('Mean of Returns')\n",
    "plt.xlabel('Number of Dagger Iterations')\n",
    "plt.show()"
   ]
  },
  {
   "cell_type": "code",
   "execution_count": 8,
   "metadata": {},
   "outputs": [
    {
     "name": "stdout",
     "output_type": "stream",
     "text": [
      "Walker2d\n"
     ]
    }
   ],
   "source": [
    "print creature"
   ]
  },
  {
   "cell_type": "markdown",
   "metadata": {},
   "source": [
    "The task above was run on a NN with two hidden layers, tanh activation, 20000 sample points, 10000 training iterations, batch size of 100, and learning rate of 0.001. There were 4 DAgger iterations."
   ]
  }
 ],
 "metadata": {
  "kernelspec": {
   "display_name": "Python 2",
   "language": "python",
   "name": "python2"
  },
  "language_info": {
   "codemirror_mode": {
    "name": "ipython",
    "version": 2
   },
   "file_extension": ".py",
   "mimetype": "text/x-python",
   "name": "python",
   "nbconvert_exporter": "python",
   "pygments_lexer": "ipython2",
   "version": "2.7.10"
  }
 },
 "nbformat": 4,
 "nbformat_minor": 2
}
