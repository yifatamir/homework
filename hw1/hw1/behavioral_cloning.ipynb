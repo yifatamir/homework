{
 "cells": [
  {
   "cell_type": "markdown",
   "metadata": {},
   "source": [
    "# CS294-112 Deep Reinforcement Learning HW1 Q3 Behavioral Cloning"
   ]
  },
  {
   "cell_type": "markdown",
   "metadata": {},
   "source": [
    "Yifat Amir"
   ]
  },
  {
   "cell_type": "markdown",
   "metadata": {},
   "source": [
    "### Libraries"
   ]
  },
  {
   "cell_type": "code",
   "execution_count": 1,
   "metadata": {
    "collapsed": true
   },
   "outputs": [],
   "source": [
    "%matplotlib inline\n",
    "import tensorflow as tf\n",
    "import numpy as np\n",
    "import tf_util\n",
    "import gym\n",
    "import sklearn.utils as sku\n",
    "from sklearn.model_selection import train_test_split\n",
    "from sklearn.preprocessing import StandardScaler\n",
    "import matplotlib.pyplot as plt\n",
    "from IPython.display import HTML, display"
   ]
  },
  {
   "cell_type": "markdown",
   "metadata": {},
   "source": [
    "### Preparing the Data"
   ]
  },
  {
   "cell_type": "code",
   "execution_count": 2,
   "metadata": {},
   "outputs": [],
   "source": [
    "def get_train_test_splits(obs_file, act_file, train_amount = None):\n",
    "    print('loading expert observations and actions data')\n",
    "\n",
    "    obs = np.load(obs_file).astype(np.float32)\n",
    "    scaler = StandardScaler().fit(obs)\n",
    "    obs = scaler.transform(obs).astype(np.float32)\n",
    "    \n",
    "    act = np.squeeze(np.load(act_file).astype(np.float32))\n",
    "    \n",
    "    if train_amount == None:\n",
    "        return obs, None, act, None, scaler\n",
    "    n_samples = obs.shape[0]\n",
    "    obs_train, obs_test = train_test_split(obs, train_size = train_amount)\n",
    "    act_train, act_test = train_test_split(act, train_size = train_amount)\n",
    "    return obs_train, obs_test, act_train, act_test, scaler"
   ]
  },
  {
   "cell_type": "markdown",
   "metadata": {},
   "source": [
    "### Hyperparameters"
   ]
  },
  {
   "cell_type": "code",
   "execution_count": 3,
   "metadata": {
    "collapsed": true
   },
   "outputs": [],
   "source": [
    "obs_file, act_file = (\"obs_Ant-v1112809102017.npy\", \"act_Ant-v1112809102017.npy\")\n",
    "# (\"obs_Hopper-v1044909042017.npy\", \"act_Hopper-v1044909042017.npy\")\n",
    "# (\"obs_Humanoid-v1044209042017.npy\", \"act_Humanoid-v1044209042017.npy\")\n",
    "# (\"obs_Ant-v1112809102017.npy\", \"act_Ant-v1112809102017.npy\")\n",
    "# (\"obs_Reacher-v1113609102017.npy\", \"act_Reacher-v1113609102017.npy\")\n",
    "# (\"obs_HalfCheetah-v1114209102017.npy\", \"act_HalfCheetah-v1114209102017.npy\")\n",
    "# (\"obs_Walker2d-v1115109102017.npy\", \"act_Walker2d-v1115109102017.npy\")\n",
    "creature = \"Ant\"\n",
    "num_iters = 20000\n",
    "batch_size = 100\n",
    "learning_rate = 0.001"
   ]
  },
  {
   "cell_type": "markdown",
   "metadata": {},
   "source": [
    "### Train My Policy"
   ]
  },
  {
   "cell_type": "code",
   "execution_count": 4,
   "metadata": {},
   "outputs": [
    {
     "name": "stdout",
     "output_type": "stream",
     "text": [
      "loading expert observations and actions data\n",
      "(20000, 111)\n",
      "(20000, 8)\n",
      "iter # 0\n",
      "iter # 2000\n",
      "iter # 4000\n",
      "iter # 6000\n",
      "iter # 8000\n",
      "iter # 10000\n",
      "iter # 12000\n",
      "iter # 14000\n",
      "iter # 16000\n",
      "iter # 18000\n"
     ]
    }
   ],
   "source": [
    "sess = tf.InteractiveSession()\n",
    "obs_train, obs_test, act_train, act_test, scaler = get_train_test_splits(obs_file, act_file)\n",
    "print obs_train.shape\n",
    "print act_train.shape\n",
    "num_obs_features = obs_train.shape[1]\n",
    "num_act_features = act_train.shape[1]\n",
    "\n",
    "x = tf.placeholder(tf.float32, shape=[None, num_obs_features])\n",
    "y_ = tf.placeholder(tf.float32, shape=[None, num_act_features])\n",
    "\n",
    "layer1 = tf.contrib.layers.fully_connected(x, num_obs_features, activation_fn = tf.nn.tanh, weights_initializer=tf.contrib.layers.xavier_initializer())\n",
    "layer2 = tf.contrib.layers.fully_connected(layer1, num_obs_features, activation_fn = tf.nn.tanh, weights_initializer=tf.contrib.layers.xavier_initializer())\n",
    "y = tf.contrib.layers.fully_connected(layer2, num_act_features, activation_fn = None, weights_initializer=tf.contrib.layers.xavier_initializer())\n",
    "\n",
    "policy_fn = tf_util.function([x], y)\n",
    "\n",
    "loss = tf.nn.l2_loss(y_ - y) / batch_size\n",
    "\n",
    "train_step = tf.train.AdamOptimizer(learning_rate).minimize(loss)\n",
    "tf.global_variables_initializer().run()\n",
    "losses = []\n",
    "for i in range(num_iters):\n",
    "    x_batch, y_batch = sku.shuffle(obs_train, act_train, n_samples = batch_size)\n",
    "    a, loss_now = sess.run(fetches=[train_step, loss], feed_dict={x: x_batch, y_: y_batch})\n",
    "    if (i % (num_iters/10) == 0):\n",
    "        print \"iter #\", i\n",
    "        losses.append(loss_now)"
   ]
  },
  {
   "cell_type": "code",
   "execution_count": 5,
   "metadata": {},
   "outputs": [
    {
     "name": "stdout",
     "output_type": "stream",
     "text": [
      "[1.5730798, 0.0041882098, 0.0021985422, 0.0022251981, 0.0017148277, 0.0018956367, 0.0014221952, 0.0012696092, 0.0014165604, 0.0014482593]\n"
     ]
    }
   ],
   "source": [
    "print losses"
   ]
  },
  {
   "cell_type": "code",
   "execution_count": 6,
   "metadata": {
    "collapsed": true
   },
   "outputs": [],
   "source": [
    "# correct_prediction = tf.equal(tf.argmax(y, 1), tf.argmax(y_, 1))\n",
    "# accuracy = tf.reduce_mean(tf.cast(correct_prediction, tf.float32))\n",
    "# print sess.run(accuracy, feed_dict={x: obs_test, y_: act_test})"
   ]
  },
  {
   "cell_type": "markdown",
   "metadata": {},
   "source": [
    "### Run My Policy"
   ]
  },
  {
   "cell_type": "code",
   "execution_count": 7,
   "metadata": {},
   "outputs": [
    {
     "name": "stderr",
     "output_type": "stream",
     "text": [
      "[2017-09-10 23:40:06,247] Making new env: Ant-v1\n"
     ]
    },
    {
     "name": "stdout",
     "output_type": "stream",
     "text": [
      "('returns', [4828.8983074055695, 4831.0657919480209, 4871.5881312383444, 4690.9101505301323, 5021.2595768729643, 4928.2746530856039, 4880.8356549256059, 4812.5590721329954, 4754.5010128405293, 4637.6080232776903, 4770.1393127355605, 4861.814041478503, 4828.4675562487946, 4758.5004617430013, 4855.9849644054375, 4758.8032705891728, 4731.8348826969859, 4911.3045144043472, 4776.8819480952661, 5009.3720312597798])\n",
      "('mean return', 4826.0301678957157)\n",
      "('std of return', 94.683920861485731)\n"
     ]
    }
   ],
   "source": [
    "env = gym.make(creature + \"-v1\")\n",
    "max_steps = env.spec.timestep_limit\n",
    "\n",
    "returns = []\n",
    "observations = []\n",
    "actions = []\n",
    "for i in range(20):\n",
    "#     print('iter', i)\n",
    "    obs = env.reset()\n",
    "    done = False\n",
    "    totalr = 0.\n",
    "    steps = 0\n",
    "    while not done:\n",
    "        action = policy_fn(scaler.transform(obs[None,:]).astype('float32'))\n",
    "        observations.append(obs)\n",
    "        actions.append(action)\n",
    "        obs, r, done, _ = env.step(action)\n",
    "        totalr += r\n",
    "        steps += 1\n",
    "#         env.render()\n",
    "#         if steps % 100 == 0: print(\"%i/%i\"%(steps, max_steps))\n",
    "        if steps >= max_steps:\n",
    "            break\n",
    "    returns.append(totalr)\n",
    "\n",
    "print('returns', returns)\n",
    "print('mean return', np.mean(returns))\n",
    "print('std of return', np.std(returns))\n",
    "\n",
    "my_data = {'observations': np.array(observations),\n",
    "               'actions': np.array(actions)}"
   ]
  },
  {
   "cell_type": "markdown",
   "metadata": {},
   "source": [
    "### Results"
   ]
  },
  {
   "cell_type": "code",
   "execution_count": 8,
   "metadata": {},
   "outputs": [
    {
     "data": {
      "text/html": [
       "<table><tr><td>Task</td><td>My Mean of Returns</td><td>My SD of Returns</td><td>Expert Mean of Returns</td><td>Expert SD of Returns</td></tr><tr><td>Ant</td><td>4852.50172309</td><td>74.2398030029</td><td>4782.16091724</td><td>132.555603119</td></tr><tr><td>Walker2d</td><td>4995.4266902</td><td>1242.65553931</td><td>5534.92655192</td><td>44.5002486121</td></tr><tr><td>Hopper</td><td>1722.43819117</td><td>1216.78097727</td><td>3777.9972139</td><td>3.20571253539</td></tr><tr><td>Reacher</td><td>-4.86192835166</td><td>1.69605609577</td><td>-3.89877452701</td><td>1.81825232762</td></tr><tr><td>Humanoid</td><td>10385.5954084</td><td>52.9418006081</td><td>10411.3670062</td><td>64.3865538357</td></tr><tr><td>HalfCheetah</td><td>4049.21748582</td><td>92.0304040342</td><td>4158.39699685</td><td>46.9716858278</td></tr></table>"
      ],
      "text/plain": [
       "<IPython.core.display.HTML object>"
      ]
     },
     "metadata": {},
     "output_type": "display_data"
    }
   ],
   "source": [
    "data = [[\"Task\", \"My Mean of Returns\", \"My SD of Returns\", \"Expert Mean of Returns\", \"Expert SD of Returns\"],\n",
    "         [\"Ant\", 4852.5017230854846, 74.23980300289098, 4782.1609172421513, 132.55560311907271],\n",
    "         [\"Walker2d\", 4995.4266902009167, 1242.6555393075696, 5534.9265519203136, 44.500248612112557],\n",
    "         [\"Hopper\", 1722.4381911703872, 1216.7809772698199, 3777.9972139025776, 3.2057125353927498],\n",
    "         [\"Reacher\", -4.8619283516599729, 1.6960560957721855, -3.8987745270062617, 1.8182523276231009],\n",
    "         [\"Humanoid\", 10385.595408411633, 52.941800608114725, 10411.367006191223, 64.386553835708511],\n",
    "         [\"HalfCheetah\", 4049.217485821292, 92.03040403417107, 4158.3969968545998, 46.971685827755344],\n",
    "         ]\n",
    "\n",
    "display(HTML(\n",
    "    '<table><tr>{}</tr></table>'.format('</tr><tr>'.join('<td>{}</td>'.format('</td><td>'.join(str(_) for _ in row)) for row in data))))\n"
   ]
  },
  {
   "cell_type": "markdown",
   "metadata": {},
   "source": [
    "All tasks were run on a NN with two hidden layers, tanh activation, 20000 sample points, 20000 training iterations, batch size of 100, and learning rate of 0.001. Most tasks achieve comparable performance, except Hopper."
   ]
  },
  {
   "cell_type": "markdown",
   "metadata": {},
   "source": [
    "### Hyperparameter Tuning: Learning Rate"
   ]
  },
  {
   "cell_type": "code",
   "execution_count": 11,
   "metadata": {},
   "outputs": [
    {
     "name": "stdout",
     "output_type": "stream",
     "text": [
      "loading expert observations and actions data\n",
      "training with learning rate: 1e-05\n"
     ]
    },
    {
     "name": "stderr",
     "output_type": "stream",
     "text": [
      "[2017-09-10 23:47:42,828] Making new env: Ant-v1\n"
     ]
    },
    {
     "name": "stdout",
     "output_type": "stream",
     "text": [
      "training with learning rate: 0.0001\n"
     ]
    },
    {
     "name": "stderr",
     "output_type": "stream",
     "text": [
      "[2017-09-10 23:49:12,298] Making new env: Ant-v1\n"
     ]
    },
    {
     "name": "stdout",
     "output_type": "stream",
     "text": [
      "training with learning rate: 0.001\n"
     ]
    },
    {
     "name": "stderr",
     "output_type": "stream",
     "text": [
      "[2017-09-10 23:50:35,083] Making new env: Ant-v1\n"
     ]
    },
    {
     "name": "stdout",
     "output_type": "stream",
     "text": [
      "training with learning rate: 0.01\n"
     ]
    },
    {
     "name": "stderr",
     "output_type": "stream",
     "text": [
      "[2017-09-10 23:52:00,258] Making new env: Ant-v1\n"
     ]
    },
    {
     "name": "stdout",
     "output_type": "stream",
     "text": [
      "training with learning rate: 0.1\n"
     ]
    },
    {
     "name": "stderr",
     "output_type": "stream",
     "text": [
      "[2017-09-10 23:53:28,583] Making new env: Ant-v1\n"
     ]
    },
    {
     "data": {
      "image/png": "[encoded data removed]",
      "text/plain": [
       "<matplotlib.figure.Figure at 0x110616410>"
      ]
     },
     "metadata": {},
     "output_type": "display_data"
    }
   ],
   "source": [
    "mean_returns = []\n",
    "obs_train, obs_test, act_train, act_test, scaler = get_train_test_splits(obs_file, act_file)\n",
    "num_obs_features = obs_train.shape[1]\n",
    "num_act_features = act_train.shape[1]\n",
    "\n",
    "lr_list = [0.00001, 0.0001, 0.001, 0.01, 0.1]\n",
    "for learning_rate in lr_list:\n",
    "    print \"training with learning rate:\", learning_rate\n",
    "    sess = tf.InteractiveSession()\n",
    "    \n",
    "    x = tf.placeholder(tf.float32, shape=[None, num_obs_features])\n",
    "    y_ = tf.placeholder(tf.float32, shape=[None, num_act_features])\n",
    "\n",
    "    layer1 = tf.contrib.layers.fully_connected(x, num_obs_features, activation_fn = tf.nn.tanh, weights_initializer=tf.contrib.layers.xavier_initializer())\n",
    "    layer2 = tf.contrib.layers.fully_connected(layer1, num_obs_features, activation_fn = tf.nn.tanh, weights_initializer=tf.contrib.layers.xavier_initializer())\n",
    "    y = tf.contrib.layers.fully_connected(layer2, num_act_features, activation_fn = None, weights_initializer=tf.contrib.layers.xavier_initializer())\n",
    "\n",
    "    policy_fn = tf_util.function([x], y)\n",
    "\n",
    "    loss = tf.nn.l2_loss(y_ - y) / batch_size\n",
    "\n",
    "    train_step = tf.train.AdamOptimizer(learning_rate).minimize(loss)\n",
    "    tf.global_variables_initializer().run()\n",
    "    for i in range(num_iters):\n",
    "        x_batch, y_batch = sku.shuffle(obs_train, act_train, n_samples = batch_size)\n",
    "        a, loss_now = sess.run(fetches=[train_step, loss], feed_dict={x: x_batch, y_: y_batch})\n",
    "            \n",
    "    env = gym.make(creature + \"-v1\")\n",
    "    max_steps = env.spec.timestep_limit\n",
    "\n",
    "    returns = []\n",
    "    observations = []\n",
    "    actions = []\n",
    "    for i in range(20):\n",
    "        obs = env.reset()\n",
    "        done = False\n",
    "        totalr = 0.\n",
    "        steps = 0\n",
    "        while not done:\n",
    "            action = policy_fn(scaler.transform(obs[None,:]).astype('float32'))\n",
    "            observations.append(obs)\n",
    "            actions.append(action)\n",
    "            obs, r, done, _ = env.step(action)\n",
    "            totalr += r\n",
    "            steps += 1\n",
    "            if steps >= max_steps:\n",
    "                break\n",
    "        returns.append(totalr)\n",
    "\n",
    "    mean_returns.append(np.mean(returns))\n",
    "    \n",
    "    sess.close()\n",
    "\n",
    "plt.plot(lr_list, mean_returns)\n",
    "plt.ylabel('Mean Return')\n",
    "plt.xlabel('Learning Rate')\n",
    "plt.xscale('log')\n",
    "plt.show()"
   ]
  },
  {
   "cell_type": "code",
   "execution_count": 10,
   "metadata": {},
   "outputs": [
    {
     "name": "stdout",
     "output_type": "stream",
     "text": [
      "Ant\n"
     ]
    }
   ],
   "source": [
    "print creature"
   ]
  },
  {
   "cell_type": "markdown",
   "metadata": {},
   "source": [
    "The graph above shows how performance varies with the value of the learning rate. I chose to experiment with this hyperparameter because it can greatly affect the optimization of the loss function. If the learning rate is too high, it is easy to overshoot a local optimum in the cost function. If the learning rate is too low, then it is hard to learn anything given a fixed number of training iterations."
   ]
  },
  {
   "cell_type": "markdown",
   "metadata": {},
   "source": [
    "### Appendix of Expert Returns"
   ]
  },
  {
   "cell_type": "markdown",
   "metadata": {},
   "source": [
    "Hopper expert returns: \n",
    "\n",
    "('returns', [3771.9336598726591, 3774.6625045070514, 3779.9935082891625, 3771.5253685435282, 3777.3681930911616, 3778.839472656417, 3778.72690636986, 3780.420514438782, 3778.5508451495007, 3777.3928509435241, 3780.6255379793006, 3775.5027294050469, 3776.7569006634217, 3780.9128980517853, 3782.9810844516765, 3773.5071795005179, 3782.8216694611729, 3778.8721318571479, 3781.2896818439012, 3777.2606409759246])\n",
    "\n",
    "\n",
    "('mean return', 3777.9972139025776)\n",
    "('std of return', 3.2057125353927498)"
   ]
  },
  {
   "cell_type": "markdown",
   "metadata": {},
   "source": [
    "Humanoid expert returns:\n",
    "\n",
    "('returns', [10426.901581297876, 10354.999386314665, 10518.526981022384, 10362.961354650473, 10397.952862427941, 10446.38337188637, 10430.008532411424, 10393.84011458044, 10354.894427755571, 10462.98034042896, 10478.465784041504, 10294.904552806682, 10486.55218058908, 10467.231468828335, 10418.502544063733, 10508.646297411087, 10427.947459059114, 10364.952755875134, 10331.624674666315, 10299.063453707358])\n",
    "\n",
    "('mean return', 10411.367006191223)\n",
    "('std of return', 64.386553835708511)"
   ]
  },
  {
   "cell_type": "markdown",
   "metadata": {},
   "source": [
    "Reacher expert returns:\n",
    "\n",
    "('returns', [-4.186911948636455, -5.2678239265846116, -6.0242261321475707, -3.372837307792369, -4.1526844029394097, -4.8800377997838567, -3.7797431463669269, -1.7708528883578709, -7.7285160804080837, -1.9489484559423917, -6.678527275516446, -4.1668850712442085, -5.0495028527687227, -1.43408737401054, -0.82961070795971548, -3.5888372914308166, -1.5595323005597548, -2.5248902640517321, -5.6329022633401271, -3.3981330502836196])\n",
    "\n",
    "('mean return', -3.8987745270062617)\n",
    "('std of return', 1.8182523276231009)"
   ]
  },
  {
   "cell_type": "markdown",
   "metadata": {},
   "source": [
    "Ant expert returns:\n",
    "\n",
    "('returns', [4634.3406190538553, 4679.9912036002106, 4953.8808445439299, 4990.3345743233913, 4890.1763907943932, 4707.2176554932867, 4829.1796412666581, 4666.6558116610486, 4849.3110733590174, 4724.8338142283865, 4740.5009526333615, 4833.1880590325636, 4682.7170248359034, 4761.0720917128101, 4462.971570585778, 4938.5729851855885, 4712.6437039011062, 4748.6394716855511, 4814.7542912273575, 5022.2365657188247])\n",
    "\n",
    "('mean return', 4782.1609172421513)\n",
    "('std of return', 132.55560311907271)"
   ]
  },
  {
   "cell_type": "markdown",
   "metadata": {},
   "source": [
    "HalfCheetah expert returns:\n",
    "\n",
    "('returns', [4190.3812970932131, 4073.6968478036711, 4258.4218992211117, 4119.4144849436952, 4202.9336097251908, 4194.1485746829685, 4172.1107979342378, 4158.0410111130859, 4151.7562522970111, 4098.786746364889, 4080.2011038260184, 4191.3021620500786, 4170.7342197836688, 4146.3440854739783, 4108.9181177371765, 4201.9462925619591, 4143.5537391811922, 4198.9531821384571, 4110.7335363287693, 4195.561976831631])\n",
    "\n",
    "('mean return', 4158.3969968545998)\n",
    "('std of return', 46.971685827755344)"
   ]
  },
  {
   "cell_type": "markdown",
   "metadata": {},
   "source": [
    "Walker2d expert returns:\n",
    "\n",
    "('returns', [5585.2095384049071, 5460.791894766493, 5542.7623746208019, 5556.2732016421041, 5616.1747022383288, 5478.9192690510554, 5460.9133160694964, 5577.302376401778, 5527.9755056623562, 5599.083870098093, 5559.6238085367822, 5520.2790046826685, 5463.2838409422829, 5566.7195260477056, 5570.9962618069103, 5516.0585803941567, 5514.0024564038231, 5510.1747546902252, 5525.7448436481145, 5546.2419122981983])\n",
    "('mean return', 5534.9265519203136)\n",
    "('std of return', 44.500248612112557)"
   ]
  }
 ],
 "metadata": {
  "kernelspec": {
   "display_name": "Python 2",
   "language": "python",
   "name": "python2"
  },
  "language_info": {
   "codemirror_mode": {
    "name": "ipython",
    "version": 2
   },
   "file_extension": ".py",
   "mimetype": "text/x-python",
   "name": "python",
   "nbconvert_exporter": "python",
   "pygments_lexer": "ipython2",
   "version": "2.7.10"
  }
 },
 "nbformat": 4,
 "nbformat_minor": 2
}
