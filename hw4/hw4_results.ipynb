{
 "cells": [
  {
   "cell_type": "markdown",
   "metadata": {},
   "source": [
    "# CS294 Deep Reinforcement Learning HW4: MPC Model-Based RL"
   ]
  },
  {
   "cell_type": "markdown",
   "metadata": {},
   "source": [
    "Yifat Amir"
   ]
  },
  {
   "cell_type": "code",
   "execution_count": 1,
   "metadata": {
    "collapsed": true
   },
   "outputs": [],
   "source": [
    "%matplotlib inline\n",
    "import numpy as np\n",
    "import matplotlib.pyplot as plt"
   ]
  },
  {
   "cell_type": "markdown",
   "metadata": {},
   "source": [
    "### Part 1"
   ]
  },
  {
   "cell_type": "markdown",
   "metadata": {},
   "source": [
    "Fit a dynamics model to random data alone and use the learned dynamics model in your\n",
    "MPC controller to control the cheetah robot. Report your performance (copy/paste\n",
    "the log output into your report).\n",
    "\n",
    "Iteration\n",
    "0\t\n",
    "\n",
    "AverageCost\n",
    "121.468224013\t\n",
    "\n",
    "StdCost\n",
    "57.2858408949\t\n",
    "\n",
    "MinimumCost\n",
    "53.6009972585\t\n",
    "\n",
    "MaximumCost\n",
    "234.567366938\t\n",
    "\n",
    "AverageReturn\n",
    "-66.0960621149\t\n",
    "\n",
    "StdReturn\n",
    "16.5012392242\t\n",
    "\n",
    "MinimumReturn\n",
    "-98.4327335961\t\n",
    "\n",
    "MaximumReturn\n",
    "-39.3160723071"
   ]
  },
  {
   "cell_type": "markdown",
   "metadata": {},
   "source": [
    "### Part 2"
   ]
  },
  {
   "cell_type": "markdown",
   "metadata": {},
   "source": [
    "Run the full algorithm, including on-policy data aggregation, for 15 iterations. Make\n",
    "a graph of the performance (average return) at each iteration. How does performance\n",
    "change when the on-policy data is included?\n",
    "\n",
    "I'm plotting only the first 6 iterations because my program is killed (9) consistently partway through iteration 7 (probably due to RAM). However, you can still see the improvement in the average return due to on-policy data."
   ]
  },
  {
   "cell_type": "code",
   "execution_count": 2,
   "metadata": {
    "collapsed": true
   },
   "outputs": [],
   "source": [
    "# python main.py -n 15"
   ]
  },
  {
   "cell_type": "code",
   "execution_count": 3,
   "metadata": {},
   "outputs": [],
   "source": [
    "returns = np.array([[-55.48267077, -80.45197874, -52.65621207, -79.43407671, -62.87969339,\n",
    " -98.4327336,  -57.90643994, -39.31607231, -57.1266877,  -77.27405592],\n",
    "[ 367.6707783,   331.59849781,  340.56866406,  323.04083954,  335.5286236,\n",
    "  363.92776312,  347.00587687,  264.78432737,  393.87546613,  345.50592572],\n",
    "[ 693.91343055,  896.65851939,  897.74801041,  910.33378461,  842.53615205,\n",
    "  767.53420877,  901.6208748,   819.93068588,  822.1079186,   791.68013174],\n",
    "[  973.90002293,  1004.31786705,  1037.80711735,   967.5827035,    933.33556119,\n",
    "   953.95272915,  1017.77948674,   895.31525909,   885.10568509,   879.98698304],\n",
    "[ 824.88018926,  751.08901308,  820.39476689,  802.62657201,  812.54730915,\n",
    "  857.3520731,   884.34524805,  874.87008172,  807.22266434,  862.94575716],\n",
    "[ 813.95781192,  816.13460029,  771.81553034,  883.36952685,  884.55741011,\n",
    "  791.28056846,  800.65754863,  793.41804097,  792.37504429,  730.99916384]])"
   ]
  },
  {
   "cell_type": "code",
   "execution_count": 4,
   "metadata": {},
   "outputs": [
    {
     "name": "stdout",
     "output_type": "stream",
     "text": [
      "[-66.096062115000009, 341.35067625199997, 834.40637167999989, 954.9083415130001, 829.82736747600006, 807.85652456999992]\n"
     ]
    }
   ],
   "source": [
    "avg_returns = [np.mean(row) for row in returns]\n",
    "print(avg_returns)"
   ]
  },
  {
   "cell_type": "code",
   "execution_count": 5,
   "metadata": {},
   "outputs": [
    {
     "data": {
      "image/png": "[encoded data removed]",
      "text/plain": [
       "<matplotlib.figure.Figure at 0x10a2800b8>"
      ]
     },
     "metadata": {},
     "output_type": "display_data"
    }
   ],
   "source": [
    "plt.plot(range(6), avg_returns)\n",
    "\n",
    "plt.xlabel('Iteration')\n",
    "plt.ylabel('Average Return')\n",
    "plt.title('Half Cheetah MPC Returns')\n",
    "plt.show()"
   ]
  }
 ],
 "metadata": {
  "kernelspec": {
   "display_name": "Python 3",
   "language": "python",
   "name": "python3"
  },
  "language_info": {
   "codemirror_mode": {
    "name": "ipython",
    "version": 3
   },
   "file_extension": ".py",
   "mimetype": "text/x-python",
   "name": "python",
   "nbconvert_exporter": "python",
   "pygments_lexer": "ipython3",
   "version": "3.5.2"
  }
 },
 "nbformat": 4,
 "nbformat_minor": 2
}
